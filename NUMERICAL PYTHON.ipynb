{
 "cells": [
  {
   "cell_type": "markdown",
   "id": "f90148ae",
   "metadata": {},
   "source": [
    "# Numpy is a pyhton library that is used to do the numeraical computing.it works with the dimensionality of the data\n",
    "      Numpy has different functions to work with the dimensionality of the data"
   ]
  },
  {
   "cell_type": "markdown",
   "id": "b1a52b96",
   "metadata": {},
   "source": [
    "Creating the 1D,2D,3D  arrays"
   ]
  },
  {
   "cell_type": "code",
   "execution_count": 3,
   "id": "243eaf0c",
   "metadata": {},
   "outputs": [],
   "source": [
    "import numpy as np"
   ]
  },
  {
   "cell_type": "code",
   "execution_count": 7,
   "id": "4f28ba1d",
   "metadata": {},
   "outputs": [
    {
     "name": "stdout",
     "output_type": "stream",
     "text": [
      "(5,)\n",
      "5\n",
      "1\n",
      "int32\n",
      "[1 2 3 4 5]\n",
      "['phani' 'mani' 'parrot']\n"
     ]
    }
   ],
   "source": [
    "#1.array : is used to convert the data into dimensions.and it is a collection of homogenous data items\n",
    "a=np.array([1,2,3,4,5])\n",
    "b=np.array(['phani','mani','parrot'])\n",
    "##attributes of numpy\n",
    "print(a.shape)#to get the number of rows and columns\n",
    "print(a.size)# to get the number of elements in the array\n",
    "print(a.ndim)#to get the dimension of the data\n",
    "print(a.dtype)#to get the type of data\n",
    "print(a)\n",
    "print(b)"
   ]
  },
  {
   "cell_type": "code",
   "execution_count": 17,
   "id": "4a8f49d4",
   "metadata": {},
   "outputs": [
    {
     "name": "stdout",
     "output_type": "stream",
     "text": [
      "---->1D---\n",
      "[1 2 3 4 5]\n",
      "--accessing--\n",
      "4\n",
      "---->2D----\n",
      "[[1 2 3 4]\n",
      " [1 2 3 4]]\n",
      "---->accessing2D\n",
      "2\n",
      "-----<>3D---\n",
      "[[[ 1  2  3  4  5]\n",
      "  [ 6  7  8  9 10]\n",
      "  [11 12 13 14 15]]]\n",
      "(1, 3, 5)\n"
     ]
    }
   ],
   "source": [
    "#1D\n",
    "print('---->1D---')\n",
    "a=np.array([1,2,3,4,5])\n",
    "print(a)\n",
    "print('--accessing--')\n",
    "print(a[3])\n",
    "#2D\n",
    "print('---->2D----')\n",
    "b=np.array([[1,2,3,4],[1,2,3,4]])\n",
    "print(b)\n",
    "print('---->accessing2D')\n",
    "print(b[0][1])\n",
    "#3D\n",
    "print('-----<>3D---')\n",
    "c=np.array([[[1,2,3,4,5],[6,7,8,9,10],[11,12,13,14,15]]])\n",
    "print(c)\n",
    "print(c.shape)\n"
   ]
  },
  {
   "cell_type": "code",
   "execution_count": 11,
   "id": "5cd1b67b",
   "metadata": {},
   "outputs": [
    {
     "name": "stdout",
     "output_type": "stream",
     "text": [
      "(30,)\n",
      "30\n",
      "1\n",
      "[ 1  3  5  7  9 11 13 15 17 19 21 23 25 27 29 31 33 35 37 39 41 43 45 47\n",
      " 49 51 53 55 57 59]\n"
     ]
    }
   ],
   "source": [
    "#2.arange : is a function in numpyn used to get the numbers in specified range.it gives 1D data\n",
    "a=np.arange(1,60,2) #(start,stop,step)\n",
    "print(a.shape)\n",
    "print(a.size)\n",
    "print(a.ndim)\n",
    "print(a)"
   ]
  },
  {
   "cell_type": "code",
   "execution_count": 20,
   "id": "99a48873",
   "metadata": {},
   "outputs": [
    {
     "name": "stdout",
     "output_type": "stream",
     "text": [
      "to convert the data into 2D\n",
      "[[ 0  1  2  3  4  5]\n",
      " [ 6  7  8  9 10 11]\n",
      " [12 13 14 15 16 17]\n",
      " [18 19 20 21 22 23]\n",
      " [24 25 26 27 28 29]\n",
      " [30 31 32 33 34 35]\n",
      " [36 37 38 39 40 41]\n",
      " [42 43 44 45 46 47]\n",
      " [48 49 50 51 52 53]\n",
      " [54 55 56 57 58 59]]\n",
      "\n",
      "----to covert the data into 3D\n",
      "\n",
      "[[[ 0  1  2  3  4  5]\n",
      "  [ 6  7  8  9 10 11]\n",
      "  [12 13 14 15 16 17]\n",
      "  [18 19 20 21 22 23]\n",
      "  [24 25 26 27 28 29]]\n",
      "\n",
      " [[30 31 32 33 34 35]\n",
      "  [36 37 38 39 40 41]\n",
      "  [42 43 44 45 46 47]\n",
      "  [48 49 50 51 52 53]\n",
      "  [54 55 56 57 58 59]]]\n"
     ]
    }
   ],
   "source": [
    "##3.reshape:used to convert the 1D data to nD\n",
    "print('to convert the data into 2D')\n",
    "a=np.arange(60).reshape(10,6)#(rows,columns)\n",
    "print(a)\n",
    "print()\n",
    "print('----to covert the data into 3D')\n",
    "print()\n",
    "b=np.arange(60).reshape(2,5,6)#(cubes,rows,columns)\n",
    "print(b)"
   ]
  },
  {
   "cell_type": "code",
   "execution_count": 21,
   "id": "a267ca80",
   "metadata": {},
   "outputs": [
    {
     "name": "stdout",
     "output_type": "stream",
     "text": [
      "[10.  12.5 15.  17.5 20. ]\n"
     ]
    }
   ],
   "source": [
    "##4.linspace: is used to divide the range of into equal parts\n",
    "a=np.linspace(10,20,5)\n",
    "print(a)"
   ]
  },
  {
   "cell_type": "code",
   "execution_count": 31,
   "id": "45752fb0",
   "metadata": {},
   "outputs": [
    {
     "name": "stdout",
     "output_type": "stream",
     "text": [
      "----before h stack----\n",
      "\n",
      "[[ 0  1  2  3  4  5]\n",
      " [ 6  7  8  9 10 11]\n",
      " [12 13 14 15 16 17]\n",
      " [18 19 20 21 22 23]\n",
      " [24 25 26 27 28 29]\n",
      " [30 31 32 33 34 35]\n",
      " [36 37 38 39 40 41]\n",
      " [42 43 44 45 46 47]\n",
      " [48 49 50 51 52 53]\n",
      " [54 55 56 57 58 59]]\n",
      "[[ 61  62  63  64  65  66]\n",
      " [ 67  68  69  70  71  72]\n",
      " [ 73  74  75  76  77  78]\n",
      " [ 79  80  81  82  83  84]\n",
      " [ 85  86  87  88  89  90]\n",
      " [ 91  92  93  94  95  96]\n",
      " [ 97  98  99 100 101 102]\n",
      " [103 104 105 106 107 108]\n",
      " [109 110 111 112 113 114]\n",
      " [115 116 117 118 119 120]]\n",
      "(10, 6)\n",
      "(10, 6)\n",
      "\n",
      "----->after hstack---\n",
      "[[  0   1   2   3   4   5  61  62  63  64  65  66]\n",
      " [  6   7   8   9  10  11  67  68  69  70  71  72]\n",
      " [ 12  13  14  15  16  17  73  74  75  76  77  78]\n",
      " [ 18  19  20  21  22  23  79  80  81  82  83  84]\n",
      " [ 24  25  26  27  28  29  85  86  87  88  89  90]\n",
      " [ 30  31  32  33  34  35  91  92  93  94  95  96]\n",
      " [ 36  37  38  39  40  41  97  98  99 100 101 102]\n",
      " [ 42  43  44  45  46  47 103 104 105 106 107 108]\n",
      " [ 48  49  50  51  52  53 109 110 111 112 113 114]\n",
      " [ 54  55  56  57  58  59 115 116 117 118 119 120]]\n",
      "(10, 12)\n",
      "\n",
      "----->vstack-----\n",
      "\n",
      "(20, 6)\n",
      "[[  0   1   2   3   4   5]\n",
      " [  6   7   8   9  10  11]\n",
      " [ 12  13  14  15  16  17]\n",
      " [ 18  19  20  21  22  23]\n",
      " [ 24  25  26  27  28  29]\n",
      " [ 30  31  32  33  34  35]\n",
      " [ 36  37  38  39  40  41]\n",
      " [ 42  43  44  45  46  47]\n",
      " [ 48  49  50  51  52  53]\n",
      " [ 54  55  56  57  58  59]\n",
      " [ 61  62  63  64  65  66]\n",
      " [ 67  68  69  70  71  72]\n",
      " [ 73  74  75  76  77  78]\n",
      " [ 79  80  81  82  83  84]\n",
      " [ 85  86  87  88  89  90]\n",
      " [ 91  92  93  94  95  96]\n",
      " [ 97  98  99 100 101 102]\n",
      " [103 104 105 106 107 108]\n",
      " [109 110 111 112 113 114]\n",
      " [115 116 117 118 119 120]]\n"
     ]
    }
   ],
   "source": [
    "#5.hstack and vstack :are used to add the data  vertically and horizontally to the rows and columns\n",
    "a=np.arange(60).reshape(10,6)\n",
    "print('----before h stack----')\n",
    "print()\n",
    "print(a)\n",
    "print(b)\n",
    "b=np.arange(61,121).reshape(10,6)\n",
    "print(a.shape)\n",
    "print(b.shape)\n",
    "print()\n",
    "print('----->after hstack---')\n",
    "c=np.hstack((a,b))\n",
    "print(c)\n",
    "print(c.shape)\n",
    "print()\n",
    "print('----->vstack-----')\n",
    "print()\n",
    "d=np.vstack((a,b))\n",
    "print(d.shape)\n",
    "print(d)"
   ]
  },
  {
   "cell_type": "code",
   "execution_count": 32,
   "id": "6340d0e0",
   "metadata": {},
   "outputs": [
    {
     "name": "stdout",
     "output_type": "stream",
     "text": [
      "[1 2 3 4 1 2 3 4]\n"
     ]
    }
   ],
   "source": [
    "##6.ravel: is a function in numpy used to convert the any Dimension data to 1D\n",
    "b=np.array([[1,2,3,4],[1,2,3,4]])\n",
    "print(b.ravel())"
   ]
  },
  {
   "cell_type": "code",
   "execution_count": 40,
   "id": "844f38c4",
   "metadata": {},
   "outputs": [
    {
     "name": "stdout",
     "output_type": "stream",
     "text": [
      "[10 13  1]\n",
      "\n",
      "[0.3830897  0.49407528 0.25341202]\n",
      "\n",
      "[[0.71744029 0.53361114 0.02136853]\n",
      " [0.93030262 0.02683199 0.65056236]\n",
      " [0.267771   0.78090539 0.45930396]]\n",
      "\n",
      "[[ 0.78145317  0.67822717 -1.4194244 ]\n",
      " [ 0.39039219 -0.28751257  1.42956967]\n",
      " [-0.75065393 -1.27047907 -0.63364162]]\n"
     ]
    }
   ],
   "source": [
    "##7.random : is a function in numpy used to give the random values in particular range.it has 4 types\n",
    "##1.randit  2.random  3.rand  4.randn\n",
    "a=np.random.randint(1,100,3)#(from,to,count we want)\n",
    "print(a)\n",
    "print()\n",
    "b=np.random.random(3) ##(number of random values)\n",
    "print(b)\n",
    "print()\n",
    "c=np.random.rand(3,3)\n",
    "print(c)\n",
    "print()\n",
    "d=np.random.randn(3,3)\n",
    "print(d)"
   ]
  },
  {
   "cell_type": "code",
   "execution_count": 63,
   "id": "294b7f4a",
   "metadata": {},
   "outputs": [
    {
     "name": "stdout",
     "output_type": "stream",
     "text": [
      "(array([2], dtype=int64),)\n"
     ]
    }
   ],
   "source": [
    "##8.Where : is an important function in numpy used to find the index of the value\n",
    "a=np.array([1,2,3,4,5])\n",
    "print(np.where(a==3))"
   ]
  },
  {
   "cell_type": "code",
   "execution_count": 67,
   "id": "d80ca94c",
   "metadata": {},
   "outputs": [
    {
     "data": {
      "text/plain": [
       "array([1, 2, 4, 4, 5])"
      ]
     },
     "execution_count": 67,
     "metadata": {},
     "output_type": "execute_result"
    }
   ],
   "source": [
    "a=np.array([1,2,3,4,5])\n",
    "np.where(a==3 ,4,a) #(condition,x,replacing value)"
   ]
  },
  {
   "cell_type": "markdown",
   "id": "0396c9b7",
   "metadata": {},
   "source": [
    "## In Numpy dimensions are called axis\n",
    "## axis =1 (refers to the rows)\n",
    "#  axis=0   (refers to the columns)"
   ]
  },
  {
   "cell_type": "markdown",
   "id": "bab252e8",
   "metadata": {},
   "source": [
    "##matrix methods"
   ]
  },
  {
   "cell_type": "code",
   "execution_count": 45,
   "id": "95264ec8",
   "metadata": {},
   "outputs": [
    {
     "name": "stdout",
     "output_type": "stream",
     "text": [
      "[[0 0 0]\n",
      " [0 0 0]\n",
      " [0 0 0]]\n",
      "\n",
      "[[1 1 1]\n",
      " [1 1 1]\n",
      " [1 1 1]]\n",
      "\n",
      "[[1 0 0 0]\n",
      " [0 2 0 0]\n",
      " [0 0 3 0]\n",
      " [0 0 0 4]]\n",
      "\n",
      "[[1. 0. 0.]\n",
      " [0. 1. 0.]\n",
      " [0. 0. 1.]]\n"
     ]
    }
   ],
   "source": [
    "a=np.zeros((3,3),dtype=int)\n",
    "print(a)\n",
    "print()\n",
    "b=np.ones((3,3),dtype=int)\n",
    "print(b)\n",
    "print()\n",
    "c=np.diag([1,2,3,4])\n",
    "print(c)\n",
    "print()\n",
    "d=np.eye(3,3)\n",
    "print(d)\n"
   ]
  },
  {
   "cell_type": "code",
   "execution_count": 59,
   "id": "98368de9",
   "metadata": {},
   "outputs": [
    {
     "name": "stdout",
     "output_type": "stream",
     "text": [
      "[[1 2 3]\n",
      " [4 5 6]\n",
      " [7 8 9]]\n",
      "[[10 11 12]\n",
      " [13 14 15]\n",
      " [16 17 18]]\n",
      "[[11 13 15]\n",
      " [17 19 21]\n",
      " [23 25 27]]\n",
      "[[-9 -9 -9]\n",
      " [-9 -9 -9]\n",
      " [-9 -9 -9]]\n",
      "[[0.1        0.18181818 0.25      ]\n",
      " [0.30769231 0.35714286 0.4       ]\n",
      " [0.4375     0.47058824 0.5       ]]\n",
      "[[ 10  22  36]\n",
      " [ 52  70  90]\n",
      " [112 136 162]]\n",
      "5.0\n",
      "[2. 5. 8.]\n"
     ]
    }
   ],
   "source": [
    "a=np.arange(1,10).reshape(3,3)\n",
    "print(a)\n",
    "b=np.arange(10,19).reshape(3,3)\n",
    "print(b)\n",
    "print(np.add(a,b))\n",
    "print(np.subtract(a,b))\n",
    "print(np.divide(a,b))\n",
    "print(np.multiply(a,b))\n",
    "print(np.mean(a))\n",
    "print(np.median(a,axis=1))"
   ]
  },
  {
   "cell_type": "code",
   "execution_count": 61,
   "id": "5314084f",
   "metadata": {},
   "outputs": [
    {
     "name": "stdout",
     "output_type": "stream",
     "text": [
      "[[3 3 3 3]\n",
      " [3 3 3 3]\n",
      " [3 3 3 3]\n",
      " [3 3 3 3]]\n"
     ]
    }
   ],
   "source": [
    "a=np.full((4,4),3,dtype=int)\n",
    "print(a)"
   ]
  },
  {
   "cell_type": "markdown",
   "id": "588a95fb",
   "metadata": {},
   "source": [
    "# filtering the values"
   ]
  },
  {
   "cell_type": "code",
   "execution_count": 69,
   "id": "39e7a128",
   "metadata": {},
   "outputs": [
    {
     "name": "stdout",
     "output_type": "stream",
     "text": [
      "[60, 70, 79]\n"
     ]
    }
   ],
   "source": [
    "a=np.array([40,50,60,70,79])\n",
    "new_arr=[]\n",
    "for i in a:\n",
    "    if i>50:\n",
    "        new_arr.append(i)\n",
    "print(new_arr)"
   ]
  },
  {
   "cell_type": "code",
   "execution_count": null,
   "id": "a2fba2ba",
   "metadata": {},
   "outputs": [],
   "source": []
  }
 ],
 "metadata": {
  "kernelspec": {
   "display_name": "Python 3 (ipykernel)",
   "language": "python",
   "name": "python3"
  },
  "language_info": {
   "codemirror_mode": {
    "name": "ipython",
    "version": 3
   },
   "file_extension": ".py",
   "mimetype": "text/x-python",
   "name": "python",
   "nbconvert_exporter": "python",
   "pygments_lexer": "ipython3",
   "version": "3.9.13"
  }
 },
 "nbformat": 4,
 "nbformat_minor": 5
}
